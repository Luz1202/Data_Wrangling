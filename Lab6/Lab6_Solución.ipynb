{
 "cells": [
  {
   "cell_type": "markdown",
   "id": "f1cfcabe",
   "metadata": {},
   "source": [
    "# Expresiones regulares\n",
    "## Luz Arévalo - 20200392"
   ]
  },
  {
   "cell_type": "code",
   "execution_count": 1,
   "id": "187c6554",
   "metadata": {},
   "outputs": [],
   "source": [
    "import re"
   ]
  },
  {
   "cell_type": "code",
   "execution_count": 2,
   "id": "a6308b7c",
   "metadata": {},
   "outputs": [
    {
     "data": {
      "text/plain": [
       "['M874FRQ', 'P876JKL', 'P675JVX', 'C456GTR', 'U567LMN']"
      ]
     },
     "execution_count": 2,
     "metadata": {},
     "output_type": "execute_result"
    }
   ],
   "source": [
    "#Pregunta 1\n",
    "cadena1 = '''\n",
    "M874FRQ, P876JKL, Corolla AE86GL-S, X001AAA, P123HOLA,\n",
    "P675JVX, C456GTR, U567LMN, LL890POP, Lexus 2008LFA, PC200GLT'''\n",
    "\n",
    "re.findall(r\"\\b([M|P|C|U]\\d{3}[B-DF-HJ-NP-TV-Z]{3})\\s?\\b\",cadena1)"
   ]
  },
  {
   "cell_type": "code",
   "execution_count": 3,
   "id": "1b3e00fb",
   "metadata": {},
   "outputs": [
    {
     "data": {
      "text/plain": [
       "['Ejemplo1.pdf', 'prueba2.PDF', 'respuestas_del_examen.jpg', 'amor.JPG']"
      ]
     },
     "execution_count": 3,
     "metadata": {},
     "output_type": "execute_result"
    }
   ],
   "source": [
    "#Pregunta 2\n",
    "cadena2='''\n",
    "Ejemplo1.pdf, prueba2.PDF, respuestas_del_examen.jpg, \n",
    "amor.JPG, falso.png, error.csv fin.R ...'''\n",
    "\n",
    "re.findall(r\"\\b(\\w*\\.PDF|\\w*\\.pdf|\\w*\\.JPG|\\w*\\.jpg)\\b\",cadena2)"
   ]
  },
  {
   "cell_type": "code",
   "execution_count": 4,
   "id": "9671758d",
   "metadata": {},
   "outputs": [
    {
     "data": {
      "text/plain": [
       "['@Mami1976', 'Papi%1964', '2002&yoLuz', '1B2020frq@']"
      ]
     },
     "execution_count": 4,
     "metadata": {},
     "output_type": "execute_result"
    }
   ],
   "source": [
    "#Pregunta 3\n",
    "cadena3='''\n",
    "@Mami1976 , Papi%1964 , 2002&yoLuz , 1B2020frq@ , mami1234 , Ar1501 , @hgyhb67'''\n",
    "#\\S*[A-Z]+\\S*\n",
    "#\\S*\\d+\\S*\n",
    "#exp = r\"[\\S{8,}]?[A-Z]+\\S{6,}|\\S+\\d+\\S{8,}\"\n",
    "#[A-Z]+[A-z|\\d|\\W]?\\W+[A-z|\\d|\\W]?\\d+[A-z|\\d|\\W]?)\\b\"\n",
    "exp = r\"(?=\\S*\\d)(?=\\S*[A-Z])(?=\\S*\\W)\\S{8,}\"\n",
    "\n",
    "re.findall(exp,cadena3)"
   ]
  },
  {
   "cell_type": "code",
   "execution_count": 5,
   "id": "055ee386",
   "metadata": {},
   "outputs": [
    {
     "data": {
      "text/plain": [
       "['19002324', '09008670', '20003920']"
      ]
     },
     "execution_count": 5,
     "metadata": {},
     "output_type": "execute_result"
    }
   ],
   "source": [
    "#Pregunta 4\n",
    "cadena4='''\n",
    "19002324, 00002324, 30008971, 09008670, 20003920, 010011112, 01001109'''\n",
    "\n",
    "exp = r\"\\b(0[1-9]00111[0-9]|0[1-9]0011[2-9][0-9]|0[1-9]001[2-9][0-9]{2}|0[1-9]00[2-7][0-9]{3}|0[1-9]008[0-8][0-9]{2}|0[1-9]0089[0-6][0-9]|0[1-9]008970|[1-2][0-9]00111[0-9]|[1-2][0-9]0011[2-9][0-9]|[1-2][0-9]001[2-9][0-9]{2}|[1-2][0-9]00[2-7][0-9]{3}|[1-2][0-9]008[0-8][0-9]{2}|[1-2][0-9]0089[0-6][0-9]|[1-2][0-9]008970|3000111[0-9]|300011[2-9][0-9]|30001[2-9][0-9]{2}|3000[2-7][0-9]{3}|30008[0-8][0-9]{2}|300089[0-6][0-9]|30008970)\\b\"\n",
    "\n",
    "re.findall(exp,cadena4)"
   ]
  },
  {
   "cell_type": "code",
   "execution_count": 6,
   "id": "cda27b5b",
   "metadata": {},
   "outputs": [
    {
     "data": {
      "text/plain": [
       "['pit', 'spot', 'spate', 'slap two', 'respite']"
      ]
     },
     "execution_count": 6,
     "metadata": {},
     "output_type": "execute_result"
    }
   ],
   "source": [
    "#Pregunta 5\n",
    "cadena5='''\n",
    "pit, spot, spate, slap two, respite\n",
    "pt, Pot, peat, part\n",
    "'''\n",
    "\n",
    "exp = r\"[a-z]*p.t[a-z]*\"\n",
    "re.findall(exp,cadena5)"
   ]
  },
  {
   "cell_type": "code",
   "execution_count": 7,
   "id": "275d25fe",
   "metadata": {},
   "outputs": [
    {
     "data": {
      "text/plain": [
       "['50254821151', '4210-7640', '52018150', '2434 6854']"
      ]
     },
     "execution_count": 7,
     "metadata": {},
     "output_type": "execute_result"
    }
   ],
   "source": [
    "#Pregunta 6\n",
    "cadena6='''\n",
    "+50254821151, 4210-7640, 52018150, 2434 6854,\n",
    "+50250240450729, 11234569, 50211234578\n",
    "'''\n",
    "exp = r\"\\b\\+?5?0?2?-?\\s?[4|5|6|2][0-9]{3}-?\\s?[0-9]{4}\\b\"\n",
    "re.findall(exp,cadena6)"
   ]
  },
  {
   "cell_type": "code",
   "execution_count": 8,
   "id": "2833d3d0",
   "metadata": {},
   "outputs": [
    {
     "data": {
      "text/plain": [
       "['zorro18@ufm.edu', 'wolfpaul@ufm.edu']"
      ]
     },
     "execution_count": 8,
     "metadata": {},
     "output_type": "execute_result"
    }
   ],
   "source": [
    "#Pregunta 7\n",
    "cadena7='''\n",
    "From: zorro18@ufm.edu,\n",
    "From: luzarevalo@ufm.educacion,\n",
    "From: anasanchez@uvg.edu,\n",
    "From: wolfpaul@ufm.edu, \n",
    "From: arevalomilian1997@gmail.com,\n",
    "From: anacleto123@buendia.com.gt,\n",
    "'''\n",
    "exp = r\"\\b(\\w+@ufm\\.edu)\\b\"\n",
    "re.findall(exp,cadena7)"
   ]
  },
  {
   "cell_type": "code",
   "execution_count": 9,
   "id": "218f6040",
   "metadata": {},
   "outputs": [
    {
     "data": {
      "text/plain": [
       "['xyz023456789AAA',\n",
       " 'xy02345678BBCD',\n",
       " 'abc123ABCDEEEE',\n",
       " 'x0234567GHJKL',\n",
       " '023QWE']"
      ]
     },
     "execution_count": 9,
     "metadata": {},
     "output_type": "execute_result"
    }
   ],
   "source": [
    "#Pregunta 8\n",
    "cadena8='''\n",
    "xyz023456789AAA,\n",
    "xy02345678BBCD,\n",
    "abc123ABCDEEEE,\n",
    "x0234567GHJKL,\n",
    "023QWE,\n",
    "10A\n",
    "'''\n",
    "exp = r\"\\b([a-z]{0,3}\\d{2,9}[A-Z]{3,})\\b\"\n",
    "re.findall(exp,cadena8)"
   ]
  }
 ],
 "metadata": {
  "kernelspec": {
   "display_name": "Python 3 (ipykernel)",
   "language": "python",
   "name": "python3"
  },
  "language_info": {
   "codemirror_mode": {
    "name": "ipython",
    "version": 3
   },
   "file_extension": ".py",
   "mimetype": "text/x-python",
   "name": "python",
   "nbconvert_exporter": "python",
   "pygments_lexer": "ipython3",
   "version": "3.7.13"
  }
 },
 "nbformat": 4,
 "nbformat_minor": 5
}
